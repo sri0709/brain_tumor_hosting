{
 "cells": [
  {
   "cell_type": "code",
   "execution_count": 1,
   "id": "b11d7a34-7636-4eab-964b-0dd8450385e0",
   "metadata": {},
   "outputs": [
    {
     "name": "stderr",
     "output_type": "stream",
     "text": [
      "WARNING:absl:Compiled the loaded model, but the compiled metrics have yet to be built. `model.compile_metrics` will be empty until you train or evaluate the model.\n"
     ]
    },
    {
     "data": {
      "application/vnd.jupyter.widget-view+json": {
       "model_id": "952f72afd8b94ef0827c163fd8b745ec",
       "version_major": 2,
       "version_minor": 0
      },
      "text/plain": [
       "FileUpload(value=(), accept='image/*', description='Upload')"
      ]
     },
     "metadata": {},
     "output_type": "display_data"
    }
   ],
   "source": [
    "import tensorflow as tf\n",
    "import numpy as np\n",
    "import matplotlib.pyplot as plt\n",
    "from tensorflow.keras.preprocessing import image\n",
    "import ipywidgets as widgets\n",
    "from IPython.display import display\n",
    "from PIL import Image\n",
    "import io\n",
    "\n",
    "# Load the trained model\n",
    "model = tf.keras.models.load_model(\"brain_tumor_detection_model.h5\")\n",
    "\n",
    "# Categories\n",
    "categories = [\"glioma\", \"meningioma\", \"notumor\", \"pituitary\"]\n",
    "\n",
    "# Create an upload widget\n",
    "upload_widget = widgets.FileUpload(accept=\"image/*\", multiple=False)\n",
    "\n",
    "# Function to process the uploaded image and make a prediction\n",
    "def on_upload_change(change):\n",
    "    if upload_widget.value:\n",
    "        # Extract the uploaded file\n",
    "        uploaded_file = list(upload_widget.value.values())[0]\n",
    "        \n",
    "        # Get the content (raw byte data)\n",
    "        image_data = uploaded_file['content']\n",
    "        \n",
    "        # Use io.BytesIO to read the image content into memory\n",
    "        img = Image.open(io.BytesIO(image_data))\n",
    "        \n",
    "        # Resize the image to the required input size (150x150)\n",
    "        img = img.resize((150, 150))\n",
    "        \n",
    "        # Convert image to numpy array and normalize it\n",
    "        img_array = np.array(img) / 255.0\n",
    "        \n",
    "        # Ensure the image has 3 channels (RGB) if it's grayscale (2D array)\n",
    "        if img_array.ndim == 2:\n",
    "            img_array = np.stack([img_array] * 3, axis=-1)\n",
    "        \n",
    "        # Add batch dimension to the image\n",
    "        img_array = np.expand_dims(img_array, axis=0)\n",
    "        \n",
    "        # Make a prediction using the trained model\n",
    "        prediction = model.predict(img_array)\n",
    "        predicted_class = categories[np.argmax(prediction)]\n",
    "        \n",
    "        # Display the image and the prediction result\n",
    "        plt.imshow(img)\n",
    "        plt.title(f\"Predicted: {predicted_class}\")\n",
    "        plt.axis('off')\n",
    "        plt.show()\n",
    "        \n",
    "        # Print the predicted category in the console\n",
    "        print(f\"Predicted Category: {predicted_class}\")\n",
    "\n",
    "# Attach the function to the upload widget\n",
    "upload_widget.observe(on_upload_change, names='value')\n",
    "\n",
    "# Display the upload widget\n",
    "display(upload_widget)\n"
   ]
  },
  {
   "cell_type": "code",
   "execution_count": null,
   "id": "d1ff208b-4f63-4eb1-a33e-96111835eeb1",
   "metadata": {},
   "outputs": [],
   "source": []
  }
 ],
 "metadata": {
  "kernelspec": {
   "display_name": "Python 3 (ipykernel)",
   "language": "python",
   "name": "python3"
  },
  "language_info": {
   "codemirror_mode": {
    "name": "ipython",
    "version": 3
   },
   "file_extension": ".py",
   "mimetype": "text/x-python",
   "name": "python",
   "nbconvert_exporter": "python",
   "pygments_lexer": "ipython3",
   "version": "3.12.4"
  }
 },
 "nbformat": 4,
 "nbformat_minor": 5
}
